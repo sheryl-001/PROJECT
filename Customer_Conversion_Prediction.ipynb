{
  "nbformat": 4,
  "nbformat_minor": 0,
  "metadata": {
    "colab": {
      "provenance": [],
      "authorship_tag": "ABX9TyM25lB6jSm+HUoWaZLkhm0F"
    },
    "kernelspec": {
      "name": "python3",
      "display_name": "Python 3"
    },
    "language_info": {
      "name": "python"
    }
  },
  "cells": [
    {
      "cell_type": "code",
      "execution_count": 16,
      "metadata": {
        "colab": {
          "base_uri": "https://localhost:8080/"
        },
        "id": "gcqtm_TcDoIn",
        "outputId": "98e08907-12f9-4c1a-dfd8-1dbd7967527f"
      },
      "outputs": [
        {
          "output_type": "stream",
          "name": "stdout",
          "text": [
            "Drive already mounted at /content/gdrive; to attempt to forcibly remount, call drive.mount(\"/content/gdrive\", force_remount=True).\n"
          ]
        }
      ],
      "source": [
        "from google.colab import drive\n",
        "drive.mount('/content/gdrive')"
      ]
    },
    {
      "cell_type": "code",
      "source": [
        "import pandas as pd\n",
        "from sklearn.model_selection import train_test_split\n",
        "from sklearn.preprocessing import LabelEncoder\n",
        "from sklearn.linear_model import LogisticRegression\n",
        "from sklearn.ensemble import RandomForestClassifier, GradientBoostingClassifier\n",
        "from sklearn.svm import SVC\n",
        "from sklearn.model_selection import GridSearchCV\n",
        "from sklearn.metrics import roc_auc_score"
      ],
      "metadata": {
        "id": "-Vsrc7K2G9dc"
      },
      "execution_count": 17,
      "outputs": []
    },
    {
      "cell_type": "code",
      "source": [
        "# Load the data\n",
        "data = pd.read_csv(\"/content/gdrive/MyDrive/Colab Notebooks/Customer Conversion Prediction.csv\")"
      ],
      "metadata": {
        "id": "5TH7l0gWHBRk"
      },
      "execution_count": 18,
      "outputs": []
    },
    {
      "cell_type": "code",
      "source": [
        "# Convert categorical variables into numerical variables\n",
        "le = LabelEncoder()\n",
        "data[\"job\"] = le.fit_transform(data[\"job\"])\n",
        "data[\"marital\"] = le.fit_transform(data[\"marital\"])\n",
        "data[\"education_qual\"] = le.fit_transform(data[\"education_qual\"])\n",
        "data[\"call_type\"] = le.fit_transform(data[\"call_type\"])\n",
        "data[\"prev_outcome\"] = le.fit_transform(data[\"prev_outcome\"])\n",
        "data[\"mon\"] = le.fit_transform(data[\"mon\"])\n",
        "data[\"y\"] = le.fit_transform(data[\"y\"])\n"
      ],
      "metadata": {
        "id": "g-MQRpSWHtKf"
      },
      "execution_count": 19,
      "outputs": []
    },
    {
      "cell_type": "code",
      "source": [
        "import pandas as pd\n",
        "from sklearn.model_selection import train_test_split\n",
        "from sklearn.linear_model import LogisticRegression\n",
        "from sklearn.metrics import roc_auc_score\n",
        "import numpy as np\n",
        "\n",
        "\n",
        "# Split the dataset into train and test sets\n",
        "X_train, X_test, y_train, y_test = train_test_split(data.drop('y', axis=1), data['y'], test_size=0.3, random_state=42)\n",
        "\n",
        "# Train a logistic regression model on the training set\n",
        "clf = LogisticRegression(random_state=42, max_iter=1000).fit(X_train, y_train)\n",
        "\n",
        "# Evaluate the performance of the model using AUROC\n",
        "y_pred_proba = clf.predict_proba(X_test)[:,1]  # probability of positive class\n",
        "auroc = roc_auc_score(y_test, y_pred_proba)\n",
        "\n",
        "# Print AUROC\n",
        "print(\"AUROC: {:.2f}\".format(auroc))\n",
        "\n",
        "# Analyze the model to identify important features\n",
        "if hasattr(clf, 'coef_'):\n",
        "    # If the model has coefficients, use them to compute feature importance\n",
        "    feature_importance = np.abs(clf.coef_).ravel()\n",
        "else:\n",
        "    # Otherwise, use the feature importance attribute of the model\n",
        "    feature_importance = clf.feature_importances_\n",
        "\n",
        "# Sort features in descending order of importance\n",
        "feature_order = np.argsort(feature_importance)[::-1]\n",
        "\n",
        "# Print top 10 features and their importance\n",
        "print(\"Top 10 features:\")\n",
        "for i in range(10):\n",
        "    print(\"{}: {:.2f}\".format(X_test.columns[feature_order[i]], feature_importance[feature_order[i]]))\n"
      ],
      "metadata": {
        "colab": {
          "base_uri": "https://localhost:8080/"
        },
        "id": "GViLqy0XJls-",
        "outputId": "4d54e8b2-8bf4-4eb0-a964-949191421678"
      },
      "execution_count": 20,
      "outputs": [
        {
          "output_type": "stream",
          "name": "stdout",
          "text": [
            "AUROC: 0.85\n",
            "Top 10 features:\n",
            "call_type: 0.74\n",
            "marital: 0.32\n",
            "education_qual: 0.27\n",
            "prev_outcome: 0.13\n",
            "num_calls: 0.13\n",
            "age: 0.02\n",
            "job: 0.02\n",
            "mon: 0.02\n",
            "day: 0.01\n",
            "dur: 0.00\n"
          ]
        }
      ]
    },
    {
      "cell_type": "code",
      "source": [
        "import pandas as pd\n",
        "from sklearn.model_selection import train_test_split\n",
        "from sklearn.ensemble import RandomForestClassifier\n",
        "from sklearn.metrics import roc_auc_score\n",
        "import numpy as np\n",
        "\n",
        "# Split the dataset into train and test sets\n",
        "X_train, X_test, y_train, y_test = train_test_split(data.drop('y', axis=1), data['y'], test_size=0.3, random_state=42)\n",
        "\n",
        "# Train a Random Forest classifier on the training set\n",
        "clf = RandomForestClassifier(n_estimators=100, random_state=42).fit(X_train, y_train)\n",
        "\n",
        "# Evaluate the performance of the model using AUROC\n",
        "y_pred_proba = clf.predict_proba(X_test)[:,1]  # probability of positive class\n",
        "auroc = roc_auc_score(y_test, y_pred_proba)\n",
        "\n",
        "# Print AUROC\n",
        "print(\"AUROC: {:.2f}\".format(auroc))\n",
        "\n",
        "# Analyze the model to identify important features\n",
        "feature_importance = clf.feature_importances_\n",
        "\n",
        "# Sort features in descending order of importance\n",
        "feature_order = np.argsort(feature_importance)[::-1]\n",
        "\n",
        "# Print top 10 features and their importance\n",
        "print(\"Top 10 features:\")\n",
        "for i in range(10):\n",
        "    print(\"{}: {:.2f}\".format(X_test.columns[feature_order[i]], feature_importance[feature_order[i]]))\n"
      ],
      "metadata": {
        "colab": {
          "base_uri": "https://localhost:8080/"
        },
        "id": "rxu_m2jWNH1m",
        "outputId": "84d3b9b6-2cc3-47be-8bcb-fdfeb1b1e9fa"
      },
      "execution_count": 21,
      "outputs": [
        {
          "output_type": "stream",
          "name": "stdout",
          "text": [
            "AUROC: 0.92\n",
            "Top 10 features:\n",
            "dur: 0.34\n",
            "age: 0.14\n",
            "day: 0.13\n",
            "mon: 0.11\n",
            "prev_outcome: 0.08\n",
            "job: 0.06\n",
            "num_calls: 0.05\n",
            "education_qual: 0.03\n",
            "marital: 0.03\n",
            "call_type: 0.03\n"
          ]
        }
      ]
    },
    {
      "cell_type": "code",
      "source": [
        "import pandas as pd\n",
        "from sklearn.model_selection import train_test_split\n",
        "from sklearn.ensemble import GradientBoostingClassifier\n",
        "from sklearn.metrics import roc_auc_score\n",
        "import numpy as np\n",
        "\n",
        "# Split the dataset into train and test sets\n",
        "X_train, X_test, y_train, y_test = train_test_split(data.drop('y', axis=1), data['y'], test_size=0.3, random_state=42)\n",
        "\n",
        "# Train a Gradient Boosting classifier on the training set\n",
        "clf = GradientBoostingClassifier(n_estimators=100, random_state=42).fit(X_train, y_train)\n",
        "\n",
        "# Evaluate the performance of the model using AUROC\n",
        "y_pred_proba = clf.predict_proba(X_test)[:,1]  # probability of positive class\n",
        "auroc = roc_auc_score(y_test, y_pred_proba)\n",
        "\n",
        "# Print AUROC\n",
        "print(\"AUROC: {:.2f}\".format(auroc))\n",
        "\n",
        "# Analyze the model to identify important features\n",
        "feature_importance = clf.feature_importances_\n",
        "\n",
        "# Sort features in descending order of importance\n",
        "feature_order = np.argsort(feature_importance)[::-1]\n",
        "\n",
        "# Print top 10 features and their importance\n",
        "print(\"Top 10 features:\")\n",
        "for i in range(10):\n",
        "    print(\"{}: {:.2f}\".format(X_test.columns[feature_order[i]], feature_importance[feature_order[i]]))\n"
      ],
      "metadata": {
        "colab": {
          "base_uri": "https://localhost:8080/"
        },
        "id": "vnIMAqcQNTfH",
        "outputId": "678ec499-8af7-4ac4-ccab-6d54debd7745"
      },
      "execution_count": 22,
      "outputs": [
        {
          "output_type": "stream",
          "name": "stdout",
          "text": [
            "AUROC: 0.92\n",
            "Top 10 features:\n",
            "dur: 0.48\n",
            "prev_outcome: 0.19\n",
            "mon: 0.16\n",
            "age: 0.07\n",
            "call_type: 0.06\n",
            "day: 0.02\n",
            "education_qual: 0.01\n",
            "marital: 0.01\n",
            "num_calls: 0.01\n",
            "job: 0.00\n"
          ]
        }
      ]
    },
    {
      "cell_type": "code",
      "source": [
        "from sklearn.model_selection import train_test_split\n",
        "from sklearn.svm import SVC\n",
        "from sklearn.metrics import roc_auc_score\n",
        "from sklearn.feature_selection import RFE\n",
        "\n",
        "# Split the data into training and testing sets\n",
        "X_train, X_test, y_train, y_test = train_test_split(X, y, test_size=0.2, random_state=42)\n",
        "\n",
        "# Train an SVM model with RBF kernel\n",
        "clf = SVC(kernel='rbf', probability=True)\n",
        "clf.fit(X_train, y_train)\n",
        "\n",
        "# Use RFE for feature selection\n",
        "selector = RFE(clf, n_features_to_select=10, step=1)\n",
        "selector.fit(X_train, y_train)\n",
        "\n",
        "# Make predictions on the test set\n",
        "y_pred = selector.predict(X_test)\n",
        "y_prob = selector.predict_proba(X_test)[:, 1]\n",
        "\n",
        "# Calculate AUROC\n",
        "auroc = roc_auc_score(y_test, y_prob)\n",
        "print('AUROC score:', auroc)\n",
        "\n",
        "# Identify top 10 important features using RFE\n",
        "important_features = X.columns[selector.get_support()].tolist()\n",
        "print('Top 10 important features:', important_features)\n"
      ],
      "metadata": {
        "colab": {
          "base_uri": "https://localhost:8080/"
        },
        "id": "m8OOvaakOYnz",
        "outputId": "bec16e92-2a68-4c7d-b544-30f5b5e33912"
      },
      "execution_count": 24,
      "outputs": [
        {
          "output_type": "stream",
          "name": "stdout",
          "text": [
            "AUROC score: 0.7168085276092854\n",
            "Top 10 important features: ['age', 'job', 'marital', 'education_qual', 'call_type', 'day', 'mon', 'dur', 'num_calls', 'prev_outcome']\n"
          ]
        }
      ]
    }
  ]
}